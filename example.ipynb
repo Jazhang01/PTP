{
 "cells": [
  {
   "cell_type": "code",
   "execution_count": 2,
   "metadata": {},
   "outputs": [
    {
     "name": "stdout",
     "output_type": "stream",
     "text": [
      "pygame 1.9.6\n",
      "Hello from the pygame community. https://www.pygame.org/contribute.html\n"
     ]
    },
    {
     "name": "stderr",
     "output_type": "stream",
     "text": [
      "WARNING:root:An output image format of CHW is recommended, as this is the default PyTorch format.\n"
     ]
    },
    {
     "name": "stdout",
     "output_type": "stream",
     "text": [
      "pybullet build time: Jun 26 2022 17:17:09\n",
      "shapenet asset path: /home/jason/pybullet/bullet-manipulation/roboverse/envs/ShapeNetCore\n"
     ]
    }
   ],
   "source": [
    "import os\n",
    "import numpy as np\n",
    "\n",
    "from make_env_clean import contextual_env_distrib_and_reward\n",
    "from roboverse.envs.sawyer_rig_affordances_v6 import SawyerRigAffordancesV6\n",
    "from drawer_pnp_push_commands import drawer_pnp_push_commands\n",
    "\n",
    "import cv2"
   ]
  },
  {
   "cell_type": "code",
   "execution_count": 3,
   "metadata": {},
   "outputs": [
    {
     "name": "stdout",
     "output_type": "stream",
     "text": [
      "sample_goal/td_pnp_push_goals_seed1.pkl\n"
     ]
    }
   ],
   "source": [
    "task_num = 1\n",
    "\n",
    "# get the presampled goals\n",
    "data_path = \"sample_goal/\"\n",
    "\n",
    "full_open_close_str = ''\n",
    "env_type = 'td_pnp_push'\n",
    "eval_seed_str = f'_seed{task_num}'\n",
    "\n",
    "eval_goals = os.path.join(data_path, f'{full_open_close_str}{env_type}_goals{eval_seed_str}.pkl')\n",
    "\n",
    "print(eval_goals)"
   ]
  },
  {
   "cell_type": "code",
   "execution_count": 4,
   "metadata": {},
   "outputs": [
    {
     "name": "stderr",
     "output_type": "stream",
     "text": [
      "/home/jason/miniconda3/envs/pybullet/lib/python3.7/site-packages/gym/logger.py:34: UserWarning: \u001b[33mWARN: Box bound precision lowered by casting to float32\u001b[0m\n",
      "  warnings.warn(colorize(\"%s: %s\" % (\"WARN\", msg % args), \"yellow\"))\n",
      "WARNING:root:An output image format of CHW is recommended, as this is the default PyTorch format.\n"
     ]
    },
    {
     "name": "stdout",
     "output_type": "stream",
     "text": [
      "sample_goal/td_pnp_push_goals_seed1.pkl\n",
      "filepath: sample_goal/td_pnp_push_goals_seed1.pkl\n",
      "local_path: sample_goal/td_pnp_push_goals_seed1.pkl\n",
      "loaded sample_goal/td_pnp_push_goals_seed1.pkl\n"
     ]
    }
   ],
   "source": [
    "env_kwargs = dict(\n",
    "    test_env=True,  # relates to environment being fixed to 1 task\n",
    "    downsample=True,\n",
    "    env_obs_img_dim=196,\n",
    "    test_env_command=drawer_pnp_push_commands[task_num]\n",
    ")\n",
    "reward_kwargs = dict(\n",
    "    epsilon=3.0,\n",
    "    obs_type='image',\n",
    "    reward_type='highlevel',\n",
    "    terminate_episode=True,\n",
    "    use_pretrained_reward_classifier_path=False\n",
    ")\n",
    "env, distr, reward_fn = contextual_env_distrib_and_reward(\n",
    "    env_id = None,\n",
    "    env_class = SawyerRigAffordancesV6,\n",
    "    env_kwargs = env_kwargs,\n",
    "    goal_sampling_mode = 'presampled_images',\n",
    "    presampled_goals_path = eval_goals,\n",
    "    num_presample = 50,\n",
    "    reward_kwargs = reward_kwargs,\n",
    "    presampled_goals_kwargs = None, # not used\n",
    ")"
   ]
  },
  {
   "cell_type": "code",
   "execution_count": 12,
   "metadata": {},
   "outputs": [
    {
     "name": "stdout",
     "output_type": "stream",
     "text": [
      "dict_keys(['observation', 'state_observation', 'desired_goal', 'state_desired_goal', 'achieved_goal', 'state_achieved_goal', 'image_observation', 'initial_latent_state', 'latent_desired_goal', 'image_desired_goal', 'initial_image_observation']) (6912,) (6912,)\n"
     ]
    }
   ],
   "source": [
    "o = env.reset()\n",
    "print(o.keys(), o['image_observation'].shape, o['image_desired_goal'].shape)\n",
    "a = env.action_space.sample()\n",
    "o, r, t, i = env.step(a)"
   ]
  },
  {
   "cell_type": "code",
   "execution_count": null,
   "metadata": {},
   "outputs": [],
   "source": []
  }
 ],
 "metadata": {
  "kernelspec": {
   "display_name": "Python 3.7.0 ('pybullet': conda)",
   "language": "python",
   "name": "python3"
  },
  "language_info": {
   "codemirror_mode": {
    "name": "ipython",
    "version": 3
   },
   "file_extension": ".py",
   "mimetype": "text/x-python",
   "name": "python",
   "nbconvert_exporter": "python",
   "pygments_lexer": "ipython3",
   "version": "3.7.0"
  },
  "orig_nbformat": 4,
  "vscode": {
   "interpreter": {
    "hash": "b4c4573baae277b3bd124cf2f44a63e9b20bc1d3f70d335923b0889c1f45ec7a"
   }
  }
 },
 "nbformat": 4,
 "nbformat_minor": 2
}
