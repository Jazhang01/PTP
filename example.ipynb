{
 "cells": [
  {
   "cell_type": "code",
   "execution_count": 7,
   "metadata": {},
   "outputs": [],
   "source": [
    "import os\n",
    "import numpy as np\n",
    "import matplotlib.pyplot as plt\n",
    "\n",
    "from make_env_clean import contextual_env_distrib_and_reward\n",
    "from roboverse.envs.sawyer_rig_affordances_v6 import SawyerRigAffordancesV6\n",
    "from drawer_pnp_push_commands import drawer_pnp_push_commands"
   ]
  },
  {
   "cell_type": "code",
   "execution_count": 8,
   "metadata": {},
   "outputs": [
    {
     "name": "stdout",
     "output_type": "stream",
     "text": [
      "sample_goal/td_pnp_push_goals_seed1.pkl\n"
     ]
    }
   ],
   "source": [
    "task_num = 1\n",
    "\n",
    "# get the presampled goals\n",
    "data_path = \"sample_goal/\"\n",
    "\n",
    "full_open_close_str = ''\n",
    "env_type = 'td_pnp_push'\n",
    "eval_seed_str = f'_seed{task_num}'\n",
    "\n",
    "eval_goals = os.path.join(data_path, f'{full_open_close_str}{env_type}_goals{eval_seed_str}.pkl')\n",
    "\n",
    "print(eval_goals)"
   ]
  },
  {
   "cell_type": "code",
   "execution_count": 9,
   "metadata": {},
   "outputs": [
    {
     "name": "stderr",
     "output_type": "stream",
     "text": [
      "/home/jason/miniconda3/envs/pybullet/lib/python3.7/site-packages/gym/logger.py:34: UserWarning: \u001b[33mWARN: Box bound precision lowered by casting to float32\u001b[0m\n",
      "  warnings.warn(colorize(\"%s: %s\" % (\"WARN\", msg % args), \"yellow\"))\n",
      "WARNING:root:An output image format of CHW is recommended, as this is the default PyTorch format.\n"
     ]
    },
    {
     "name": "stdout",
     "output_type": "stream",
     "text": [
      "sample_goal/td_pnp_push_goals_seed1.pkl\n",
      "filepath: sample_goal/td_pnp_push_goals_seed1.pkl\n",
      "local_path: sample_goal/td_pnp_push_goals_seed1.pkl\n",
      "loaded sample_goal/td_pnp_push_goals_seed1.pkl\n"
     ]
    }
   ],
   "source": [
    "env_kwargs = dict(\n",
    "    test_env=True,  # relates to environment being fixed to 1 task\n",
    "    downsample=True,\n",
    "    env_obs_img_dim=196,\n",
    "    test_env_command=drawer_pnp_push_commands[task_num]\n",
    ")\n",
    "reward_kwargs = dict(\n",
    "    epsilon=3.0,\n",
    "    obs_type='image',\n",
    "    reward_type='highlevel',\n",
    "    terminate_episode=True,\n",
    "    use_pretrained_reward_classifier_path=False\n",
    ")\n",
    "env, distr, reward_fn = contextual_env_distrib_and_reward(\n",
    "    env_id = None,\n",
    "    env_class = SawyerRigAffordancesV6,\n",
    "    env_kwargs = env_kwargs,\n",
    "    goal_sampling_mode = 'presampled_images',\n",
    "    presampled_goals_path = eval_goals,\n",
    "    num_presample = 50,\n",
    "    reward_kwargs = reward_kwargs,\n",
    "    presampled_goals_kwargs = None, # not used\n",
    ")"
   ]
  },
  {
   "cell_type": "code",
   "execution_count": 15,
   "metadata": {},
   "outputs": [],
   "source": [
    "def obs2img(obs):\n",
    "    obs = obs.reshape(3, 48, 48)\n",
    "    return np.transpose(obs, (2, 1, 0))"
   ]
  },
  {
   "cell_type": "code",
   "execution_count": 10,
   "metadata": {},
   "outputs": [],
   "source": [
    "o = env.reset()\n",
    "a = env.action_space.sample()\n",
    "o, r, t, i = env.step(a)"
   ]
  },
  {
   "cell_type": "code",
   "execution_count": 16,
   "metadata": {},
   "outputs": [
    {
     "data": {
      "image/png": "[encoded data removed]",
      "text/plain": [
       "<Figure size 432x288 with 1 Axes>"
      ]
     },
     "metadata": {
      "needs_background": "light"
     },
     "output_type": "display_data"
    },
    {
     "data": {
      "image/png": "[encoded data removed]",
      "text/plain": [
       "<Figure size 432x288 with 1 Axes>"
      ]
     },
     "metadata": {
      "needs_background": "light"
     },
     "output_type": "display_data"
    }
   ],
   "source": [
    "plt.imshow(obs2img(o['image_observation']))\n",
    "plt.show()\n",
    "plt.imshow(obs2img(o['image_desired_goal']))\n",
    "plt.show()"
   ]
  },
  {
   "cell_type": "code",
   "execution_count": null,
   "metadata": {},
   "outputs": [],
   "source": []
  }
 ],
 "metadata": {
  "kernelspec": {
   "display_name": "Python 3.7.0 ('pybullet': conda)",
   "language": "python",
   "name": "python3"
  },
  "language_info": {
   "codemirror_mode": {
    "name": "ipython",
    "version": 3
   },
   "file_extension": ".py",
   "mimetype": "text/x-python",
   "name": "python",
   "nbconvert_exporter": "python",
   "pygments_lexer": "ipython3",
   "version": "3.7.0"
  },
  "orig_nbformat": 4,
  "vscode": {
   "interpreter": {
    "hash": "b4c4573baae277b3bd124cf2f44a63e9b20bc1d3f70d335923b0889c1f45ec7a"
   }
  }
 },
 "nbformat": 4,
 "nbformat_minor": 2
}
