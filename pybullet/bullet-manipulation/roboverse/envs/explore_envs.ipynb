{
 "cells": [
  {
   "cell_type": "code",
   "execution_count": 1,
   "metadata": {},
   "outputs": [
    {
     "name": "stdout",
     "output_type": "stream",
     "text": [
      "pybullet build time: Jun 26 2022 17:17:09\n"
     ]
    }
   ],
   "source": [
    "import gym\n",
    "from gym.wrappers import ClipAction\n",
    "import roboverse\n",
    "import roboverse.bullet as bullet\n",
    "import pybullet\n",
    "from rlkit.envs.images import EnvRenderer, InsertImageEnv\n",
    "\n",
    "import numpy as np\n",
    "import matplotlib.pyplot as plt"
   ]
  },
  {
   "cell_type": "code",
   "execution_count": 2,
   "metadata": {},
   "outputs": [],
   "source": [
    "def view_obs(obs):\n",
    "    obs = obs.reshape(3, 48, 48)\n",
    "    obs = np.transpose(obs, (2, 1, 0))\n",
    "    plt.imshow(obs)\n",
    "    plt.show()"
   ]
  },
  {
   "cell_type": "code",
   "execution_count": 3,
   "metadata": {},
   "outputs": [
    {
     "name": "stderr",
     "output_type": "stream",
     "text": [
      "/home/jason/miniconda3/envs/pybullet/lib/python3.7/site-packages/gym/logger.py:34: UserWarning: \u001b[33mWARN: Box bound precision lowered by casting to float32\u001b[0m\n",
      "  warnings.warn(colorize(\"%s: %s\" % (\"WARN\", msg % args), \"yellow\"))\n",
      "WARNING:root:An output image format of CHW is recommended, as this is the default PyTorch format.\n"
     ]
    },
    {
     "name": "stdout",
     "output_type": "stream",
     "text": [
      "shapenet asset path: /home/jason/pybullet/bullet-manipulation/roboverse/envs/ShapeNetCore\n"
     ]
    }
   ],
   "source": [
    "renderer_kwargs=dict(\n",
    "    create_image_format='HWC',\n",
    "    output_image_format='CWH',\n",
    "    flatten_image=True,\n",
    "    width=48,\n",
    "    height=48,\n",
    ")\n",
    "# state_env = gym.make('SawyerRigAffordancesNoDrawer-v6')\n",
    "state_env = gym.make('SawyerRigAffordancesNoSlide-v6')\n",
    "state_env = ClipAction(state_env)\n",
    "renderer = EnvRenderer(init_camera=None, **renderer_kwargs)\n",
    "img_env = InsertImageEnv(state_env, renderer=renderer)"
   ]
  },
  {
   "cell_type": "code",
   "execution_count": 17,
   "metadata": {},
   "outputs": [
    {
     "name": "stdout",
     "output_type": "stream",
     "text": [
      "load table conflict, retrying reset\n",
      "load table conflict, retrying reset\n"
     ]
    },
    {
     "data": {
      "image/png": "[encoded data removed]",
      "text/plain": [
       "<Figure size 432x288 with 1 Axes>"
      ]
     },
     "metadata": {
      "needs_background": "light"
     },
     "output_type": "display_data"
    },
    {
     "name": "stdout",
     "output_type": "stream",
     "text": [
      "[ 0.          0.          0.          0.          0.          0.\n",
      "  0.          0.          0.64343959 -0.07457915 -0.34        0.\n",
      "  0.          0.          0.525       0.1675     -0.26951111  0.\n",
      "  0.          0.          0.          0.          0.          0.525\n",
      "  0.1675     -0.26951111  0.5444865   0.12767147 -0.3290406   0.68169026\n",
      " -0.16091307 -0.35201056]\n"
     ]
    }
   ],
   "source": [
    "_ = img_env.reset()\n",
    "obs = img_env.get_observation()\n",
    "view_obs(obs['image_observation'])\n",
    "print(img_env.unwrapped.goal_state)"
   ]
  },
  {
   "cell_type": "code",
   "execution_count": null,
   "metadata": {},
   "outputs": [],
   "source": [
    "e.unwrapped.goal_state"
   ]
  },
  {
   "cell_type": "code",
   "execution_count": null,
   "metadata": {},
   "outputs": [],
   "source": []
  }
 ],
 "metadata": {
  "kernelspec": {
   "display_name": "Python 3.7.0 ('pybullet': conda)",
   "language": "python",
   "name": "python3"
  },
  "language_info": {
   "codemirror_mode": {
    "name": "ipython",
    "version": 3
   },
   "file_extension": ".py",
   "mimetype": "text/x-python",
   "name": "python",
   "nbconvert_exporter": "python",
   "pygments_lexer": "ipython3",
   "version": "3.7.0"
  },
  "orig_nbformat": 4,
  "vscode": {
   "interpreter": {
    "hash": "b4c4573baae277b3bd124cf2f44a63e9b20bc1d3f70d335923b0889c1f45ec7a"
   }
  }
 },
 "nbformat": 4,
 "nbformat_minor": 2
}
